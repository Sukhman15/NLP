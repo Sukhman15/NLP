{
 "cells": [
  {
   "cell_type": "code",
   "execution_count": 1,
   "id": "87ed03e1-bb02-4d95-ab2b-653a0b133bb2",
   "metadata": {},
   "outputs": [
    {
     "name": "stdout",
     "output_type": "stream",
     "text": [
      "Requirement already satisfied: nltk in c:\\users\\dellg\\jn\\lib\\site-packages (3.8.1)\n",
      "Requirement already satisfied: click in c:\\users\\dellg\\jn\\lib\\site-packages (from nltk) (8.1.7)\n",
      "Requirement already satisfied: joblib in c:\\users\\dellg\\jn\\lib\\site-packages (from nltk) (1.4.2)\n",
      "Requirement already satisfied: regex>=2021.8.3 in c:\\users\\dellg\\jn\\lib\\site-packages (from nltk) (2023.10.3)\n",
      "Requirement already satisfied: tqdm in c:\\users\\dellg\\jn\\lib\\site-packages (from nltk) (4.66.4)\n",
      "Requirement already satisfied: colorama in c:\\users\\dellg\\appdata\\roaming\\python\\python312\\site-packages (from click->nltk) (0.4.6)\n"
     ]
    }
   ],
   "source": [
    "!pip install nltk\n"
   ]
  },
  {
   "cell_type": "code",
   "execution_count": 2,
   "id": "4301d5ee-5f0d-4b8b-9f74-5acfc07caafd",
   "metadata": {},
   "outputs": [],
   "source": [
    "import nltk \n",
    "import warnings\n",
    "warnings.filterwarnings('ignore')"
   ]
  },
  {
   "cell_type": "code",
   "execution_count": 3,
   "id": "23cf0572-f40d-459f-b887-4782b71d2772",
   "metadata": {},
   "outputs": [],
   "source": [
    "tweet=\"\"\"Introducing the #UMANG app in its new avatar. Designed to empower citizens like never before. With a refreshed look and enhanced features, the app brings government services to your fingertips. #OneAppUmang\"\"\"\n"
   ]
  },
  {
   "cell_type": "code",
   "execution_count": 17,
   "id": "5871c5fe-8048-4beb-9a16-4526be5d46df",
   "metadata": {},
   "outputs": [
    {
     "name": "stdout",
     "output_type": "stream",
     "text": [
      "Introducing the #UMANG app in its new avatar. Designed to empower citizens like never before. With a refreshed look and enhanced features, the app brings government services to your fingertips. #OneAppUmang\n"
     ]
    }
   ],
   "source": [
    "print(tweet)"
   ]
  },
  {
   "cell_type": "code",
   "execution_count": 8,
   "id": "76dec341-14ba-4a04-bbc8-caa9c422429e",
   "metadata": {},
   "outputs": [],
   "source": [
    "import re"
   ]
  },
  {
   "cell_type": "code",
   "execution_count": 10,
   "id": "02ffe65b-13b8-40b9-ad5c-60dbee790fd1",
   "metadata": {},
   "outputs": [],
   "source": [
    "clean_tweet=re.sub('@\\S|htttps?:\\S+|http?:\\S|[^A-Za-z0-9]+',' ',tweet)"
   ]
  },
  {
   "cell_type": "code",
   "execution_count": 11,
   "id": "14b75ac8-f55b-4c65-b628-e6c0dbd1c11d",
   "metadata": {},
   "outputs": [],
   "source": [
    "clean_tweet=clean_tweet.lower()"
   ]
  },
  {
   "cell_type": "code",
   "execution_count": 12,
   "id": "85098942-8fa0-4f57-85fb-0631ae322701",
   "metadata": {},
   "outputs": [],
   "source": [
    "clean_tweet=clean_tweet.split()"
   ]
  },
  {
   "cell_type": "code",
   "execution_count": 13,
   "id": "d53eba06-e52d-4d89-8b67-1ffc069aa5e4",
   "metadata": {},
   "outputs": [],
   "source": [
    "clean_tweet=[word for word in clean_tweet if not word in stop_words]"
   ]
  },
  {
   "cell_type": "code",
   "execution_count": 14,
   "id": "917555e5-c054-4cc9-9298-ab4c158bbabb",
   "metadata": {},
   "outputs": [],
   "source": [
    "clean_tweet=' '.join(clean_tweet)"
   ]
  },
  {
   "cell_type": "code",
   "execution_count": 15,
   "id": "1fd9d3b3-dd62-437a-82e0-4ec2dba6b6a3",
   "metadata": {},
   "outputs": [
    {
     "name": "stdout",
     "output_type": "stream",
     "text": [
      "introducing umang app new avatar designed empower citizens like never refreshed look enhanced features app brings government services fingertips oneappumang\n"
     ]
    }
   ],
   "source": [
    "print(clean_tweet)"
   ]
  },
  {
   "cell_type": "code",
   "execution_count": null,
   "id": "506b2cc8-9969-40c4-a1f9-7deb56200d24",
   "metadata": {},
   "outputs": [],
   "source": []
  }
 ],
 "metadata": {
  "kernelspec": {
   "display_name": "Python 3 (ipykernel)",
   "language": "python",
   "name": "python3"
  },
  "language_info": {
   "codemirror_mode": {
    "name": "ipython",
    "version": 3
   },
   "file_extension": ".py",
   "mimetype": "text/x-python",
   "name": "python",
   "nbconvert_exporter": "python",
   "pygments_lexer": "ipython3",
   "version": "3.12.4"
  }
 },
 "nbformat": 4,
 "nbformat_minor": 5
}
